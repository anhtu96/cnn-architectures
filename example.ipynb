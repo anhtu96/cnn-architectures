{
 "metadata": {
  "language_info": {
   "codemirror_mode": {
    "name": "ipython",
    "version": 3
   },
   "file_extension": ".py",
   "mimetype": "text/x-python",
   "name": "python",
   "nbconvert_exporter": "python",
   "pygments_lexer": "ipython3",
   "version": "3.7.6-final"
  },
  "orig_nbformat": 2,
  "kernelspec": {
   "name": "python37664bitcvprojvenv22a2dcc247f947fbb9acb28f66175c86",
   "display_name": "Python 3.7.6 64-bit ('cvproj': venv)"
  }
 },
 "nbformat": 4,
 "nbformat_minor": 2,
 "cells": [
  {
   "cell_type": "markdown",
   "metadata": {},
   "source": [
    "# Examples for CNN architectures usage"
   ]
  },
  {
   "cell_type": "code",
   "execution_count": 1,
   "metadata": {},
   "outputs": [],
   "source": [
    "import tensorflow as tf\n",
    "from models import vgg"
   ]
  },
  {
   "cell_type": "code",
   "execution_count": 2,
   "metadata": {},
   "outputs": [],
   "source": [
    "BATCH_SIZE = 20"
   ]
  },
  {
   "cell_type": "markdown",
   "metadata": {},
   "source": [
    "### 1. VGG16"
   ]
  },
  {
   "cell_type": "code",
   "execution_count": 3,
   "metadata": {},
   "outputs": [],
   "source": [
    "x = tf.random.uniform((BATCH_SIZE, 224, 224, 3))\n",
    "model_vgg16 = vgg.VGG16()\n",
    "out = model_vgg16(x)"
   ]
  },
  {
   "cell_type": "markdown",
   "metadata": {},
   "source": [
    "Let's take a look at number of parameters."
   ]
  },
  {
   "cell_type": "code",
   "execution_count": 4,
   "metadata": {
    "tags": []
   },
   "outputs": [
    {
     "output_type": "stream",
     "name": "stdout",
     "text": "Model: \"vgg16\"\n_________________________________________________________________\nLayer (type)                 Output Shape              Param #   \n=================================================================\nconv1 (Conv2D)               multiple                  1792      \n_________________________________________________________________\nconv10 (Conv2D)              multiple                  2359808   \n_________________________________________________________________\nconv11 (Conv2D)              multiple                  2359808   \n_________________________________________________________________\nconv12 (Conv2D)              multiple                  2359808   \n_________________________________________________________________\nconv13 (Conv2D)              multiple                  2359808   \n_________________________________________________________________\nconv2 (Conv2D)               multiple                  36928     \n_________________________________________________________________\nconv3 (Conv2D)               multiple                  73856     \n_________________________________________________________________\nconv4 (Conv2D)               multiple                  147584    \n_________________________________________________________________\nconv5 (Conv2D)               multiple                  295168    \n_________________________________________________________________\nconv6 (Conv2D)               multiple                  590080    \n_________________________________________________________________\nconv7 (Conv2D)               multiple                  590080    \n_________________________________________________________________\nconv8 (Conv2D)               multiple                  1180160   \n_________________________________________________________________\nconv9 (Conv2D)               multiple                  2359808   \n_________________________________________________________________\ndropout1 (Dropout)           multiple                  0         \n_________________________________________________________________\ndropout2 (Dropout)           multiple                  0         \n_________________________________________________________________\nfc14 (Dense)                 multiple                  102764544 \n_________________________________________________________________\nfc15 (Dense)                 multiple                  16781312  \n_________________________________________________________________\nfc16 (Dense)                 multiple                  4097000   \n_________________________________________________________________\nflatten (Flatten)            multiple                  0         \n_________________________________________________________________\nmaxpool1 (MaxPooling2D)      multiple                  0         \n_________________________________________________________________\nmaxpool2 (MaxPooling2D)      multiple                  0         \n_________________________________________________________________\nmaxpool3 (MaxPooling2D)      multiple                  0         \n_________________________________________________________________\nmaxpool4 (MaxPooling2D)      multiple                  0         \n_________________________________________________________________\nmaxpool5 (MaxPooling2D)      multiple                  0         \n=================================================================\nTotal params: 138,357,544\nTrainable params: 138,357,544\nNon-trainable params: 0\n_________________________________________________________________\n"
    }
   ],
   "source": [
    "model_vgg16.summary()"
   ]
  },
  {
   "cell_type": "markdown",
   "metadata": {},
   "source": [
    "There are about 138M trainable parameters, which is the same as proposed in the original paper https://arxiv.org/pdf/1409.1556.pdf (**Configuration D**)."
   ]
  },
  {
   "cell_type": "markdown",
   "metadata": {},
   "source": [
    "Look at output's shape."
   ]
  },
  {
   "cell_type": "code",
   "execution_count": 5,
   "metadata": {},
   "outputs": [
    {
     "output_type": "execute_result",
     "data": {
      "text/plain": "TensorShape([20, 1000])"
     },
     "metadata": {},
     "execution_count": 5
    }
   ],
   "source": [
    "out.shape"
   ]
  },
  {
   "cell_type": "markdown",
   "metadata": {},
   "source": [
    "### 2. VGG19"
   ]
  },
  {
   "cell_type": "code",
   "execution_count": 6,
   "metadata": {},
   "outputs": [],
   "source": [
    "model_vgg19 = vgg.VGG19()\n",
    "out = model_vgg19(x)"
   ]
  },
  {
   "cell_type": "code",
   "execution_count": 7,
   "metadata": {
    "tags": []
   },
   "outputs": [
    {
     "output_type": "stream",
     "name": "stdout",
     "text": "Model: \"vgg19\"\n_________________________________________________________________\nLayer (type)                 Output Shape              Param #   \n=================================================================\nconv1 (Conv2D)               multiple                  1792      \n_________________________________________________________________\nconv10 (Conv2D)              multiple                  2359808   \n_________________________________________________________________\nconv11 (Conv2D)              multiple                  2359808   \n_________________________________________________________________\nconv12 (Conv2D)              multiple                  2359808   \n_________________________________________________________________\nconv13 (Conv2D)              multiple                  2359808   \n_________________________________________________________________\nconv14 (Conv2D)              multiple                  2359808   \n_________________________________________________________________\nconv15 (Conv2D)              multiple                  2359808   \n_________________________________________________________________\nconv16 (Conv2D)              multiple                  2359808   \n_________________________________________________________________\nconv2 (Conv2D)               multiple                  36928     \n_________________________________________________________________\nconv3 (Conv2D)               multiple                  73856     \n_________________________________________________________________\nconv4 (Conv2D)               multiple                  147584    \n_________________________________________________________________\nconv5 (Conv2D)               multiple                  295168    \n_________________________________________________________________\nconv6 (Conv2D)               multiple                  590080    \n_________________________________________________________________\nconv7 (Conv2D)               multiple                  590080    \n_________________________________________________________________\nconv8 (Conv2D)               multiple                  590080    \n_________________________________________________________________\nconv9 (Conv2D)               multiple                  1180160   \n_________________________________________________________________\ndropout1 (Dropout)           multiple                  0         \n_________________________________________________________________\ndropout2 (Dropout)           multiple                  0         \n_________________________________________________________________\nfc17 (Dense)                 multiple                  102764544 \n_________________________________________________________________\nfc18 (Dense)                 multiple                  16781312  \n_________________________________________________________________\nfc19 (Dense)                 multiple                  4097000   \n_________________________________________________________________\nflatten (Flatten)            multiple                  0         \n_________________________________________________________________\nmaxpool1 (MaxPooling2D)      multiple                  0         \n_________________________________________________________________\nmaxpool2 (MaxPooling2D)      multiple                  0         \n_________________________________________________________________\nmaxpool3 (MaxPooling2D)      multiple                  0         \n_________________________________________________________________\nmaxpool4 (MaxPooling2D)      multiple                  0         \n_________________________________________________________________\nmaxpool5 (MaxPooling2D)      multiple                  0         \n=================================================================\nTotal params: 143,667,240\nTrainable params: 143,667,240\nNon-trainable params: 0\n_________________________________________________________________\n"
    }
   ],
   "source": [
    "model_vgg19.summary()"
   ]
  },
  {
   "cell_type": "markdown",
   "metadata": {},
   "source": [
    "VGG19 model has approx. 144M trainable parameters, same as **Configuration E** from original paper."
   ]
  }
 ]
}